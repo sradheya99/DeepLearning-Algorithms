{
 "cells": [
  {
   "cell_type": "markdown",
   "metadata": {},
   "source": [
    "# LSTM On Amazon Fine Food Reviews "
   ]
  },
  {
   "cell_type": "markdown",
   "metadata": {},
   "source": [
    "## [ CONTENTS ] \n",
    "\n",
    "1. About the dataset<br>\n",
    "2. Objective<br>\n",
    "3. Loading the data<br>\n",
    "4. Data Preprocessing <br>\n",
    "5. Vanilla LSTM<br>\n",
    "6. Stacked LSTM<br>\n",
    "7. CNN-LSTM<br>\n",
    "8. Bidirectional LSTM<br>\n",
    "9. Conclusion<br>"
   ]
  },
  {
   "cell_type": "markdown",
   "metadata": {},
   "source": [
    "## 1. About the dataset\n",
    "1. Title: Amazon Fine Food Reviews. Link:https://www.kaggle.com/snap/amazon-fine-food-reviews\n",
    "2. Relevant Information: This dataset consists of reviews of fine foods from amazon. The data span a period of more than 10 years, including all ~500,000 reviews up to October 2012. Reviews include product and user information, ratings, and a plain text review. It also includes reviews from all other Amazon categories.\n",
    "3. Data includes:\n",
    "    * Number of reviews: 568,454<br>\n",
    "    * Number of users: 256,059<br>\n",
    "    * Number of products: 74,258<br>\n",
    "    * Timespan: Oct 1999 - Oct 2012<br>\n",
    "    * Number of Attributes/Columns in data: 10 \n",
    "4. Attribute Information: \n",
    "    * Id\n",
    "    * ProductId - unique identifier for the product\n",
    "    * UserId - unqiue identifier for the user\n",
    "    * ProfileName\n",
    "    * HelpfulnessNumerator - number of users who found the review helpful\n",
    "    * HelpfulnessDenominator - number of users who indicated whether they found the review helpful or not\n",
    "    * Score - rating between 1 and 5\n",
    "    * Time - timestamp for the review\n",
    "    * Summary - brief summary of the review\n",
    "    * Text - text of the review"
   ]
  },
  {
   "cell_type": "markdown",
   "metadata": {},
   "source": [
    "## 2. Objective:\n",
    "For a given Amazon review, classify it as \"Possitive\"(Rating of 4 or 5) or \"Negative\"(Rating of 1 or 2).<br>\n",
    "<br>\n",
    "Here I'm using LSTM algorithm to classify reviews as 'positive' or 'negative'. To convert a review text to numerical features I'm using bag of words, TF-IDF, avg Word2Vec, TF-IDF weighted Word2Vec. "
   ]
  },
  {
   "cell_type": "code",
   "execution_count": 2,
   "metadata": {},
   "outputs": [],
   "source": [
    "import numpy as np \n",
    "import sqlite3\n",
    "import pandas as pd \n",
    "import seaborn as sns\n",
    "import matplotlib.pyplot as plt\n",
    "from keras.layers import Dense, Dropout\n",
    "from keras.models import Sequential\n",
    "from keras.layers import LSTM\n",
    "from keras.layers.embeddings import Embedding\n",
    "from keras.preprocessing import sequence\n",
    "from sklearn.model_selection import train_test_split"
   ]
  },
  {
   "cell_type": "code",
   "execution_count": 3,
   "metadata": {},
   "outputs": [],
   "source": [
    "import warnings\n",
    "warnings.filterwarnings('ignore')"
   ]
  },
  {
   "cell_type": "markdown",
   "metadata": {},
   "source": [
    "## 3. Loading the data"
   ]
  },
  {
   "cell_type": "code",
   "execution_count": 5,
   "metadata": {},
   "outputs": [],
   "source": [
    "# Loading the previously cleaned data\n",
    "connect = sqlite3.connect('final_data.sqlite')\n",
    "\n",
    "#Ignoring the rows which have rating 3\n",
    "data = pd.read_sql_query(\"\"\"\n",
    "SELECT *\n",
    "FROM Reviews\n",
    "\"\"\", connect)"
   ]
  },
  {
   "cell_type": "code",
   "execution_count": 6,
   "metadata": {},
   "outputs": [
    {
     "data": {
      "text/plain": [
       "(364171, 12)"
      ]
     },
     "execution_count": 6,
     "metadata": {},
     "output_type": "execute_result"
    }
   ],
   "source": [
    "data.shape"
   ]
  },
  {
   "cell_type": "code",
   "execution_count": 7,
   "metadata": {},
   "outputs": [
    {
     "data": {
      "text/html": [
       "<div>\n",
       "<style scoped>\n",
       "    .dataframe tbody tr th:only-of-type {\n",
       "        vertical-align: middle;\n",
       "    }\n",
       "\n",
       "    .dataframe tbody tr th {\n",
       "        vertical-align: top;\n",
       "    }\n",
       "\n",
       "    .dataframe thead th {\n",
       "        text-align: right;\n",
       "    }\n",
       "</style>\n",
       "<table border=\"1\" class=\"dataframe\">\n",
       "  <thead>\n",
       "    <tr style=\"text-align: right;\">\n",
       "      <th></th>\n",
       "      <th>index</th>\n",
       "      <th>Id</th>\n",
       "      <th>ProductId</th>\n",
       "      <th>UserId</th>\n",
       "      <th>ProfileName</th>\n",
       "      <th>HelpfulnessNumerator</th>\n",
       "      <th>HelpfulnessDenominator</th>\n",
       "      <th>Score</th>\n",
       "      <th>Time</th>\n",
       "      <th>Summary</th>\n",
       "      <th>Text</th>\n",
       "      <th>CleanedText</th>\n",
       "    </tr>\n",
       "  </thead>\n",
       "  <tbody>\n",
       "    <tr>\n",
       "      <th>0</th>\n",
       "      <td>138706</td>\n",
       "      <td>150524</td>\n",
       "      <td>0006641040</td>\n",
       "      <td>ACITT7DI6IDDL</td>\n",
       "      <td>shari zychinski</td>\n",
       "      <td>0</td>\n",
       "      <td>0</td>\n",
       "      <td>positive</td>\n",
       "      <td>939340800</td>\n",
       "      <td>EVERY book is educational</td>\n",
       "      <td>this witty little book makes my son laugh at l...</td>\n",
       "      <td>b'witti littl book make son laugh loud recit c...</td>\n",
       "    </tr>\n",
       "    <tr>\n",
       "      <th>1</th>\n",
       "      <td>138688</td>\n",
       "      <td>150506</td>\n",
       "      <td>0006641040</td>\n",
       "      <td>A2IW4PEEKO2R0U</td>\n",
       "      <td>Tracy</td>\n",
       "      <td>1</td>\n",
       "      <td>1</td>\n",
       "      <td>positive</td>\n",
       "      <td>1194739200</td>\n",
       "      <td>Love the book, miss the hard cover version</td>\n",
       "      <td>I grew up reading these Sendak books, and watc...</td>\n",
       "      <td>b'grew read sendak book watch realli rosi movi...</td>\n",
       "    </tr>\n",
       "    <tr>\n",
       "      <th>2</th>\n",
       "      <td>138689</td>\n",
       "      <td>150507</td>\n",
       "      <td>0006641040</td>\n",
       "      <td>A1S4A3IQ2MU7V4</td>\n",
       "      <td>sally sue \"sally sue\"</td>\n",
       "      <td>1</td>\n",
       "      <td>1</td>\n",
       "      <td>positive</td>\n",
       "      <td>1191456000</td>\n",
       "      <td>chicken soup with rice months</td>\n",
       "      <td>This is a fun way for children to learn their ...</td>\n",
       "      <td>b'fun way children learn month year learn poem...</td>\n",
       "    </tr>\n",
       "    <tr>\n",
       "      <th>3</th>\n",
       "      <td>138690</td>\n",
       "      <td>150508</td>\n",
       "      <td>0006641040</td>\n",
       "      <td>AZGXZ2UUK6X</td>\n",
       "      <td>Catherine Hallberg \"(Kate)\"</td>\n",
       "      <td>1</td>\n",
       "      <td>1</td>\n",
       "      <td>positive</td>\n",
       "      <td>1076025600</td>\n",
       "      <td>a good swingy rhythm for reading aloud</td>\n",
       "      <td>This is a great little book to read aloud- it ...</td>\n",
       "      <td>b'great littl book read nice rhythm well good ...</td>\n",
       "    </tr>\n",
       "    <tr>\n",
       "      <th>4</th>\n",
       "      <td>138691</td>\n",
       "      <td>150509</td>\n",
       "      <td>0006641040</td>\n",
       "      <td>A3CMRKGE0P909G</td>\n",
       "      <td>Teresa</td>\n",
       "      <td>3</td>\n",
       "      <td>4</td>\n",
       "      <td>positive</td>\n",
       "      <td>1018396800</td>\n",
       "      <td>A great way to learn the months</td>\n",
       "      <td>This is a book of poetry about the months of t...</td>\n",
       "      <td>b'book poetri month year goe month cute littl ...</td>\n",
       "    </tr>\n",
       "  </tbody>\n",
       "</table>\n",
       "</div>"
      ],
      "text/plain": [
       "    index      Id   ProductId          UserId                  ProfileName  \\\n",
       "0  138706  150524  0006641040   ACITT7DI6IDDL              shari zychinski   \n",
       "1  138688  150506  0006641040  A2IW4PEEKO2R0U                        Tracy   \n",
       "2  138689  150507  0006641040  A1S4A3IQ2MU7V4        sally sue \"sally sue\"   \n",
       "3  138690  150508  0006641040     AZGXZ2UUK6X  Catherine Hallberg \"(Kate)\"   \n",
       "4  138691  150509  0006641040  A3CMRKGE0P909G                       Teresa   \n",
       "\n",
       "   HelpfulnessNumerator  HelpfulnessDenominator     Score        Time  \\\n",
       "0                     0                       0  positive   939340800   \n",
       "1                     1                       1  positive  1194739200   \n",
       "2                     1                       1  positive  1191456000   \n",
       "3                     1                       1  positive  1076025600   \n",
       "4                     3                       4  positive  1018396800   \n",
       "\n",
       "                                      Summary  \\\n",
       "0                   EVERY book is educational   \n",
       "1  Love the book, miss the hard cover version   \n",
       "2               chicken soup with rice months   \n",
       "3      a good swingy rhythm for reading aloud   \n",
       "4             A great way to learn the months   \n",
       "\n",
       "                                                Text  \\\n",
       "0  this witty little book makes my son laugh at l...   \n",
       "1  I grew up reading these Sendak books, and watc...   \n",
       "2  This is a fun way for children to learn their ...   \n",
       "3  This is a great little book to read aloud- it ...   \n",
       "4  This is a book of poetry about the months of t...   \n",
       "\n",
       "                                         CleanedText  \n",
       "0  b'witti littl book make son laugh loud recit c...  \n",
       "1  b'grew read sendak book watch realli rosi movi...  \n",
       "2  b'fun way children learn month year learn poem...  \n",
       "3  b'great littl book read nice rhythm well good ...  \n",
       "4  b'book poetri month year goe month cute littl ...  "
      ]
     },
     "execution_count": 7,
     "metadata": {},
     "output_type": "execute_result"
    }
   ],
   "source": [
    "data.head()"
   ]
  },
  {
   "cell_type": "markdown",
   "metadata": {},
   "source": [
    "## 4. Data Preprocessing "
   ]
  },
  {
   "cell_type": "code",
   "execution_count": 8,
   "metadata": {},
   "outputs": [
    {
     "data": {
      "text/plain": [
       "positive    307061\n",
       "negative     57110\n",
       "Name: Score, dtype: int64"
      ]
     },
     "execution_count": 8,
     "metadata": {},
     "output_type": "execute_result"
    }
   ],
   "source": [
    "data.Score.value_counts()"
   ]
  },
  {
   "cell_type": "code",
   "execution_count": 9,
   "metadata": {},
   "outputs": [],
   "source": [
    "sorted_data = data.sort_values('Time', axis=0, ascending=True, inplace=False, kind='quicksort', na_position='last')"
   ]
  },
  {
   "cell_type": "code",
   "execution_count": 10,
   "metadata": {},
   "outputs": [],
   "source": [
    "# converting 'positive' score to 1 and 'negative' score to 0\n",
    "def partition(x):\n",
    "    if x == 'positive':\n",
    "        return 1\n",
    "    return 0\n",
    "\n",
    "actualScore = sorted_data['Score']\n",
    "positiveNegative = actualScore.map(partition) \n",
    "sorted_data['Score'] = positiveNegative"
   ]
  },
  {
   "cell_type": "code",
   "execution_count": 11,
   "metadata": {},
   "outputs": [
    {
     "data": {
      "text/html": [
       "<div>\n",
       "<style scoped>\n",
       "    .dataframe tbody tr th:only-of-type {\n",
       "        vertical-align: middle;\n",
       "    }\n",
       "\n",
       "    .dataframe tbody tr th {\n",
       "        vertical-align: top;\n",
       "    }\n",
       "\n",
       "    .dataframe thead th {\n",
       "        text-align: right;\n",
       "    }\n",
       "</style>\n",
       "<table border=\"1\" class=\"dataframe\">\n",
       "  <thead>\n",
       "    <tr style=\"text-align: right;\">\n",
       "      <th></th>\n",
       "      <th>index</th>\n",
       "      <th>Id</th>\n",
       "      <th>ProductId</th>\n",
       "      <th>UserId</th>\n",
       "      <th>ProfileName</th>\n",
       "      <th>HelpfulnessNumerator</th>\n",
       "      <th>HelpfulnessDenominator</th>\n",
       "      <th>Score</th>\n",
       "      <th>Time</th>\n",
       "      <th>Summary</th>\n",
       "      <th>Text</th>\n",
       "      <th>CleanedText</th>\n",
       "    </tr>\n",
       "  </thead>\n",
       "  <tbody>\n",
       "    <tr>\n",
       "      <th>0</th>\n",
       "      <td>138706</td>\n",
       "      <td>150524</td>\n",
       "      <td>0006641040</td>\n",
       "      <td>ACITT7DI6IDDL</td>\n",
       "      <td>shari zychinski</td>\n",
       "      <td>0</td>\n",
       "      <td>0</td>\n",
       "      <td>1</td>\n",
       "      <td>939340800</td>\n",
       "      <td>EVERY book is educational</td>\n",
       "      <td>this witty little book makes my son laugh at l...</td>\n",
       "      <td>b'witti littl book make son laugh loud recit c...</td>\n",
       "    </tr>\n",
       "    <tr>\n",
       "      <th>30</th>\n",
       "      <td>138683</td>\n",
       "      <td>150501</td>\n",
       "      <td>0006641040</td>\n",
       "      <td>AJ46FKXOVC7NR</td>\n",
       "      <td>Nicholas A Mesiano</td>\n",
       "      <td>2</td>\n",
       "      <td>2</td>\n",
       "      <td>1</td>\n",
       "      <td>940809600</td>\n",
       "      <td>This whole series is great way to spend time w...</td>\n",
       "      <td>I can remember seeing the show when it aired o...</td>\n",
       "      <td>b'rememb see show air televis year ago child s...</td>\n",
       "    </tr>\n",
       "    <tr>\n",
       "      <th>424</th>\n",
       "      <td>417839</td>\n",
       "      <td>451856</td>\n",
       "      <td>B00004CXX9</td>\n",
       "      <td>AIUWLEQ1ADEG5</td>\n",
       "      <td>Elizabeth Medina</td>\n",
       "      <td>0</td>\n",
       "      <td>0</td>\n",
       "      <td>1</td>\n",
       "      <td>944092800</td>\n",
       "      <td>Entertainingl Funny!</td>\n",
       "      <td>Beetlejuice is a well written movie ..... ever...</td>\n",
       "      <td>b'beetlejuic well written movi everyth excel a...</td>\n",
       "    </tr>\n",
       "    <tr>\n",
       "      <th>330</th>\n",
       "      <td>346055</td>\n",
       "      <td>374359</td>\n",
       "      <td>B00004CI84</td>\n",
       "      <td>A344SMIA5JECGM</td>\n",
       "      <td>Vincent P. Ross</td>\n",
       "      <td>1</td>\n",
       "      <td>2</td>\n",
       "      <td>1</td>\n",
       "      <td>944438400</td>\n",
       "      <td>A modern day fairy tale</td>\n",
       "      <td>A twist of rumplestiskin captured on film, sta...</td>\n",
       "      <td>b'twist rumplestiskin captur film star michael...</td>\n",
       "    </tr>\n",
       "    <tr>\n",
       "      <th>423</th>\n",
       "      <td>417838</td>\n",
       "      <td>451855</td>\n",
       "      <td>B00004CXX9</td>\n",
       "      <td>AJH6LUC1UT1ON</td>\n",
       "      <td>The Phantom of the Opera</td>\n",
       "      <td>0</td>\n",
       "      <td>0</td>\n",
       "      <td>1</td>\n",
       "      <td>946857600</td>\n",
       "      <td>FANTASTIC!</td>\n",
       "      <td>Beetlejuice is an excellent and funny movie. K...</td>\n",
       "      <td>b'beetlejuic excel funni movi keaton hilari wa...</td>\n",
       "    </tr>\n",
       "  </tbody>\n",
       "</table>\n",
       "</div>"
      ],
      "text/plain": [
       "      index      Id   ProductId          UserId               ProfileName  \\\n",
       "0    138706  150524  0006641040   ACITT7DI6IDDL           shari zychinski   \n",
       "30   138683  150501  0006641040   AJ46FKXOVC7NR        Nicholas A Mesiano   \n",
       "424  417839  451856  B00004CXX9   AIUWLEQ1ADEG5          Elizabeth Medina   \n",
       "330  346055  374359  B00004CI84  A344SMIA5JECGM           Vincent P. Ross   \n",
       "423  417838  451855  B00004CXX9   AJH6LUC1UT1ON  The Phantom of the Opera   \n",
       "\n",
       "     HelpfulnessNumerator  HelpfulnessDenominator  Score       Time  \\\n",
       "0                       0                       0      1  939340800   \n",
       "30                      2                       2      1  940809600   \n",
       "424                     0                       0      1  944092800   \n",
       "330                     1                       2      1  944438400   \n",
       "423                     0                       0      1  946857600   \n",
       "\n",
       "                                               Summary  \\\n",
       "0                            EVERY book is educational   \n",
       "30   This whole series is great way to spend time w...   \n",
       "424                               Entertainingl Funny!   \n",
       "330                            A modern day fairy tale   \n",
       "423                                         FANTASTIC!   \n",
       "\n",
       "                                                  Text  \\\n",
       "0    this witty little book makes my son laugh at l...   \n",
       "30   I can remember seeing the show when it aired o...   \n",
       "424  Beetlejuice is a well written movie ..... ever...   \n",
       "330  A twist of rumplestiskin captured on film, sta...   \n",
       "423  Beetlejuice is an excellent and funny movie. K...   \n",
       "\n",
       "                                           CleanedText  \n",
       "0    b'witti littl book make son laugh loud recit c...  \n",
       "30   b'rememb see show air televis year ago child s...  \n",
       "424  b'beetlejuic well written movi everyth excel a...  \n",
       "330  b'twist rumplestiskin captur film star michael...  \n",
       "423  b'beetlejuic excel funni movi keaton hilari wa...  "
      ]
     },
     "execution_count": 11,
     "metadata": {},
     "output_type": "execute_result"
    }
   ],
   "source": [
    "sorted_data.head(5)"
   ]
  },
  {
   "cell_type": "code",
   "execution_count": 12,
   "metadata": {},
   "outputs": [],
   "source": [
    "score = np.array(sorted_data.Score.reshape(sorted_data.shape[0],1))"
   ]
  },
  {
   "cell_type": "code",
   "execution_count": 13,
   "metadata": {},
   "outputs": [],
   "source": [
    "def data_split(data, score):\n",
    "    train_x, test_x, train_y, test_y = train_test_split(data, score, test_size = 0.3, shuffle = False)\n",
    "    return train_x, test_x, train_y, test_y"
   ]
  },
  {
   "cell_type": "code",
   "execution_count": 14,
   "metadata": {},
   "outputs": [],
   "source": [
    "train_x, test_x, train_y, test_y = data_split(sorted_data, score)"
   ]
  },
  {
   "cell_type": "code",
   "execution_count": 15,
   "metadata": {},
   "outputs": [],
   "source": [
    "import nltk \n",
    "from nltk.corpus import stopwords"
   ]
  },
  {
   "cell_type": "code",
   "execution_count": 16,
   "metadata": {},
   "outputs": [],
   "source": [
    "import operator\n",
    "\n",
    "def find_top_words(num_top):\n",
    "    all_words = []\n",
    "    stop_words = set(stopwords.words('english', ignore_lines_startswith = 'not'))\n",
    "    for sent in sorted_data['CleanedText'].values:\n",
    "        for word in sent.decode('utf-8').split():\n",
    "            if word not in stop_words:\n",
    "                all_words.append(word)\n",
    "    words_dist = nltk.FreqDist(all_words)\n",
    "    words_sorted = sorted(words_dist.items(), key = operator.itemgetter(1))[::-1][: num_top]\n",
    "    words_sorted = dict((x, y) for x, y in words_sorted)\n",
    "    \n",
    "    for i, w in enumerate(words_sorted):\n",
    "        words_sorted[w] = i + 1\n",
    "    \n",
    "    return words_sorted"
   ]
  },
  {
   "cell_type": "code",
   "execution_count": 17,
   "metadata": {},
   "outputs": [],
   "source": [
    "num_top_words = 10000"
   ]
  },
  {
   "cell_type": "code",
   "execution_count": 18,
   "metadata": {
    "scrolled": true
   },
   "outputs": [],
   "source": [
    "ranked_dict = find_top_words(num_top_words)"
   ]
  },
  {
   "cell_type": "code",
   "execution_count": 19,
   "metadata": {},
   "outputs": [],
   "source": [
    "def rank_vect(data):\n",
    "    complete_text_rank = []\n",
    "    for sent in data:\n",
    "        sent_rank = []\n",
    "        for word in sent.decode('utf-8').split():\n",
    "            if word in ranked_dict:\n",
    "                sent_rank.append(ranked_dict[word])\n",
    "            else:\n",
    "                sent_rank.append(0)\n",
    "        complete_text_rank.append(sent_rank)\n",
    "    return complete_text_rank      "
   ]
  },
  {
   "cell_type": "code",
   "execution_count": 20,
   "metadata": {},
   "outputs": [],
   "source": [
    "train_rank = rank_vect(train_x['CleanedText'].values)"
   ]
  },
  {
   "cell_type": "code",
   "execution_count": 21,
   "metadata": {},
   "outputs": [],
   "source": [
    "test_rank = rank_vect(test_x['CleanedText'].values)"
   ]
  },
  {
   "cell_type": "code",
   "execution_count": 22,
   "metadata": {},
   "outputs": [
    {
     "data": {
      "text/plain": [
       "[536,\n",
       " 136,\n",
       " 656,\n",
       " 1003,\n",
       " 6216,\n",
       " 45,\n",
       " 307,\n",
       " 970,\n",
       " 1179,\n",
       " 563,\n",
       " 63,\n",
       " 42,\n",
       " 3604,\n",
       " 109,\n",
       " 7,\n",
       " 3449,\n",
       " 1076,\n",
       " 5066,\n",
       " 2041,\n",
       " 3597,\n",
       " 4703,\n",
       " 325,\n",
       " 133,\n",
       " 996,\n",
       " 56,\n",
       " 540,\n",
       " 1076,\n",
       " 821,\n",
       " 750,\n",
       " 287]"
      ]
     },
     "execution_count": 22,
     "metadata": {},
     "output_type": "execute_result"
    }
   ],
   "source": [
    "train_rank[1]"
   ]
  },
  {
   "cell_type": "code",
   "execution_count": 23,
   "metadata": {},
   "outputs": [],
   "source": [
    "vec_length = 500\n",
    "train_vect = sequence.pad_sequences(train_rank, maxlen = vec_length)\n",
    "test_vect = sequence.pad_sequences(test_rank, maxlen = vec_length)"
   ]
  },
  {
   "cell_type": "code",
   "execution_count": 24,
   "metadata": {},
   "outputs": [
    {
     "data": {
      "text/plain": [
       "array([   0,    0,    0,    0,    0,    0,    0,    0,    0,    0,    0,\n",
       "          0,    0,    0,    0,    0,    0,    0,    0,    0,    0,    0,\n",
       "          0,    0,    0,    0,    0,    0,    0,    0,    0,    0,    0,\n",
       "          0,    0,    0,    0,    0,    0,    0,    0,    0,    0,    0,\n",
       "          0,    0,    0,    0,    0,    0,    0,    0,    0,    0,    0,\n",
       "          0,    0,    0,    0,    0,    0,    0,    0,    0,    0,    0,\n",
       "          0,    0,    0,    0,    0,    0,    0,    0,    0,    0,    0,\n",
       "          0,    0,    0,    0,    0,    0,    0,    0,    0,    0,    0,\n",
       "          0,    0,    0,    0,    0,    0,    0,    0,    0,    0,    0,\n",
       "          0,    0,    0,    0,    0,    0,    0,    0,    0,    0,    0,\n",
       "          0,    0,    0,    0,    0,    0,    0,    0,    0,    0,    0,\n",
       "          0,    0,    0,    0,    0,    0,    0,    0,    0,    0,    0,\n",
       "          0,    0,    0,    0,    0,    0,    0,    0,    0,    0,    0,\n",
       "          0,    0,    0,    0,    0,    0,    0,    0,    0,    0,    0,\n",
       "          0,    0,    0,    0,    0,    0,    0,    0,    0,    0,    0,\n",
       "          0,    0,    0,    0,    0,    0,    0,    0,    0,    0,    0,\n",
       "          0,    0,    0,    0,    0,    0,    0,    0,    0,    0,    0,\n",
       "          0,    0,    0,    0,    0,    0,    0,    0,    0,    0,    0,\n",
       "          0,    0,    0,    0,    0,    0,    0,    0,    0,    0,    0,\n",
       "          0,    0,    0,    0,    0,    0,    0,    0,    0,    0,    0,\n",
       "          0,    0,    0,    0,    0,    0,    0,    0,    0,    0,    0,\n",
       "          0,    0,    0,    0,    0,    0,    0,    0,    0,    0,    0,\n",
       "          0,    0,    0,    0,    0,    0,    0,    0,    0,    0,    0,\n",
       "          0,    0,    0,    0,    0,    0,    0,    0,    0,    0,    0,\n",
       "          0,    0,    0,    0,    0,    0,    0,    0,    0,    0,    0,\n",
       "          0,    0,    0,    0,    0,    0,    0,    0,    0,    0,    0,\n",
       "          0,    0,    0,    0,    0,    0,    0,    0,    0,    0,    0,\n",
       "          0,    0,    0,    0,    0,    0,    0,    0,    0,    0,    0,\n",
       "          0,    0,    0,    0,    0,    0,    0,    0,    0,    0,    0,\n",
       "          0,    0,    0,    0,    0,    0,    0,    0,    0,    0,    0,\n",
       "          0,    0,    0,    0,    0,    0,    0,    0,    0,    0,    0,\n",
       "          0,    0,    0,    0,    0,    0,    0,    0,    0,    0,    0,\n",
       "          0,    0,    0,    0,    0,    0,    0,    0,    0,    0,    0,\n",
       "          0,    0,    0,    0,    0,    0,    0,    0,    0,    0,    0,\n",
       "          0,    0,    0,    0,    0,    0,    0,    0,    0,    0,    0,\n",
       "          0,    0,    0,    0,    0,    0,    0,    0,    0,    0,    0,\n",
       "          0,    0,    0,    0,    0,    0,    0,    0,    0,    0,    0,\n",
       "          0,    0,    0,    0,    0,    0,    0,    0,    0,    0,    0,\n",
       "          0,    0,    0,    0,    0,    0,    0,    0,    0,    0,    0,\n",
       "          0,    0,    0,    0,    0,    0,    0,    0,    0,    0,    0,\n",
       "          0,    0,    0,    0,    0,    0,    0,    0,    0,    0,    0,\n",
       "          0,    0,    0,    0,    0,    0,    0,    0,    0,    0,    0,\n",
       "          0,    0,    0,    0,    0,    0,    0,    0,  536,  136,  656,\n",
       "       1003, 6216,   45,  307,  970, 1179,  563,   63,   42, 3604,  109,\n",
       "          7, 3449, 1076, 5066, 2041, 3597, 4703,  325,  133,  996,   56,\n",
       "        540, 1076,  821,  750,  287], dtype=int32)"
      ]
     },
     "execution_count": 24,
     "metadata": {},
     "output_type": "execute_result"
    }
   ],
   "source": [
    "train_vect[1]"
   ]
  },
  {
   "cell_type": "code",
   "execution_count": 25,
   "metadata": {},
   "outputs": [
    {
     "data": {
      "text/plain": [
       "(254919, 500)"
      ]
     },
     "execution_count": 25,
     "metadata": {},
     "output_type": "execute_result"
    }
   ],
   "source": [
    "train_vect.shape"
   ]
  },
  {
   "cell_type": "code",
   "execution_count": 26,
   "metadata": {},
   "outputs": [
    {
     "data": {
      "text/plain": [
       "(109252, 500)"
      ]
     },
     "execution_count": 26,
     "metadata": {},
     "output_type": "execute_result"
    }
   ],
   "source": [
    "test_vect.shape"
   ]
  },
  {
   "cell_type": "markdown",
   "metadata": {},
   "source": [
    "## 5. Vanilla LSTM"
   ]
  },
  {
   "cell_type": "code",
   "execution_count": 27,
   "metadata": {},
   "outputs": [],
   "source": [
    "def err_plot(history):\n",
    "    \n",
    "    sns.set()\n",
    "    # train-cv plot for accuracy\n",
    "    plt.figure(figsize = (8, 5))\n",
    "    plt.plot(np.arange(1, 11, step = 1), history.history['acc'], color = 'blue')\n",
    "    plt.plot(np.arange(1, 11, step = 1), history.history['val_acc'], color = 'red')\n",
    "    plt.title('Model Accuracy')\n",
    "    plt.ylabel('Accuracy')\n",
    "    plt.xlabel('Epoch')\n",
    "    plt.legend(['Train', 'CV'])\n",
    "    plt.show()\n",
    "        \n",
    "    # train-cv plot for loss\n",
    "    plt.figure(figsize = (8, 5))\n",
    "    plt.plot(np.arange(1, 11, step = 1), history.history['loss'], color = 'blue')\n",
    "    plt.plot(np.arange(1, 11, step = 1), history.history['val_loss'], color = 'red')\n",
    "    plt.title('Model Loss')\n",
    "    plt.ylabel('Loss')\n",
    "    plt.xlabel('Epoch')\n",
    "    plt.legend(['Train', 'CV'])\n",
    "    plt.show()"
   ]
  },
  {
   "cell_type": "code",
   "execution_count": 28,
   "metadata": {},
   "outputs": [],
   "source": [
    "from keras.layers import CuDNNLSTM"
   ]
  },
  {
   "cell_type": "code",
   "execution_count": 243,
   "metadata": {},
   "outputs": [
    {
     "name": "stdout",
     "output_type": "stream",
     "text": [
      "_________________________________________________________________\n",
      "Layer (type)                 Output Shape              Param #   \n",
      "=================================================================\n",
      "embedding_52 (Embedding)     (None, 500, 64)           640000    \n",
      "_________________________________________________________________\n",
      "dropout_48 (Dropout)         (None, 500, 64)           0         \n",
      "_________________________________________________________________\n",
      "cu_dnnlstm_82 (CuDNNLSTM)    (None, 128)               99328     \n",
      "_________________________________________________________________\n",
      "dense_18 (Dense)             (None, 1)                 129       \n",
      "=================================================================\n",
      "Total params: 739,457\n",
      "Trainable params: 739,457\n",
      "Non-trainable params: 0\n",
      "_________________________________________________________________\n",
      "None\n"
     ]
    }
   ],
   "source": [
    "embedding_vec_length = 64\n",
    "model = Sequential()\n",
    "model.add(Embedding(num_top_words, embedding_vec_length, input_length = vec_length))\n",
    "model.add(Dropout(0.2))\n",
    "model.add(CuDNNLSTM(128))\n",
    "model.add(Dense(1, activation = 'sigmoid'))\n",
    "model.compile(loss = 'binary_crossentropy', optimizer = 'adam', metrics = ['accuracy'])\n",
    "print(model.summary())"
   ]
  },
  {
   "cell_type": "code",
   "execution_count": 244,
   "metadata": {},
   "outputs": [
    {
     "name": "stdout",
     "output_type": "stream",
     "text": [
      "****************************TRAINING****************************\n",
      "Train on 203935 samples, validate on 50984 samples\n",
      "Epoch 1/10\n",
      "203935/203935 [==============================] - 70s 341us/step - loss: 0.2042 - acc: 0.9198 - val_loss: 0.1854 - val_acc: 0.9274\n",
      "Epoch 2/10\n",
      "203935/203935 [==============================] - 68s 333us/step - loss: 0.1549 - acc: 0.9401 - val_loss: 0.1814 - val_acc: 0.9257\n",
      "Epoch 3/10\n",
      "203935/203935 [==============================] - 68s 335us/step - loss: 0.1319 - acc: 0.9495 - val_loss: 0.1626 - val_acc: 0.9363\n",
      "Epoch 4/10\n",
      "203935/203935 [==============================] - 68s 336us/step - loss: 0.1154 - acc: 0.9558 - val_loss: 0.1672 - val_acc: 0.9357\n",
      "Epoch 5/10\n",
      "203935/203935 [==============================] - 69s 338us/step - loss: 0.1020 - acc: 0.9616 - val_loss: 0.1759 - val_acc: 0.9347\n",
      "Epoch 6/10\n",
      "203935/203935 [==============================] - 69s 338us/step - loss: 0.0899 - acc: 0.9663 - val_loss: 0.1767 - val_acc: 0.9359\n",
      "Epoch 7/10\n",
      "203935/203935 [==============================] - 69s 340us/step - loss: 0.0785 - acc: 0.9706 - val_loss: 0.1980 - val_acc: 0.9335\n",
      "Epoch 8/10\n",
      "203935/203935 [==============================] - 70s 341us/step - loss: 0.0693 - acc: 0.9744 - val_loss: 0.2155 - val_acc: 0.9329\n",
      "Epoch 9/10\n",
      "203935/203935 [==============================] - 71s 348us/step - loss: 0.0604 - acc: 0.9779 - val_loss: 0.2305 - val_acc: 0.9317\n",
      "Epoch 10/10\n",
      "203935/203935 [==============================] - 70s 341us/step - loss: 0.0520 - acc: 0.9810 - val_loss: 0.2483 - val_acc: 0.9323\n"
     ]
    },
    {
     "data": {
      "image/png": "[encoded data removed]",
      "text/plain": [
       "<matplotlib.figure.Figure at 0x7f1f51bf35c0>"
      ]
     },
     "metadata": {},
     "output_type": "display_data"
    },
    {
     "data": {
      "image/png": "[encoded data removed]",
      "text/plain": [
       "<matplotlib.figure.Figure at 0x7f1f515f15f8>"
      ]
     },
     "metadata": {},
     "output_type": "display_data"
    }
   ],
   "source": [
    "print('****************************TRAINING****************************')\n",
    "history = model.fit(train_vect, train_y, epochs = 10, batch_size = 64, validation_split = 0.2)\n",
    "err_plot(history)"
   ]
  },
  {
   "cell_type": "code",
   "execution_count": 245,
   "metadata": {},
   "outputs": [
    {
     "name": "stdout",
     "output_type": "stream",
     "text": [
      "****************************TESTING****************************\n",
      "Epoch 1/3\n",
      "254919/254919 [==============================] - 79s 311us/step - loss: 0.0840 - acc: 0.9717\n",
      "Epoch 2/3\n",
      "254919/254919 [==============================] - 85s 332us/step - loss: 0.0683 - acc: 0.9760\n",
      "Epoch 3/3\n",
      "254919/254919 [==============================] - 81s 317us/step - loss: 0.0581 - acc: 0.9795\n",
      "109252/109252 [==============================] - 22s 205us/step\n",
      "Accuracy: 93.10%\n"
     ]
    }
   ],
   "source": [
    "print('****************************TESTING****************************')\n",
    "model.fit(train_vect, train_y, epochs = 3, batch_size = 64)\n",
    "result = model.evaluate(test_vect, test_y)\n",
    "print(\"Accuracy: %.2f%%\" % (result[1] * 100))"
   ]
  },
  {
   "cell_type": "markdown",
   "metadata": {},
   "source": [
    "## 6. Stacked LSTM"
   ]
  },
  {
   "cell_type": "code",
   "execution_count": 48,
   "metadata": {},
   "outputs": [
    {
     "name": "stdout",
     "output_type": "stream",
     "text": [
      "_________________________________________________________________\n",
      "Layer (type)                 Output Shape              Param #   \n",
      "=================================================================\n",
      "embedding_10 (Embedding)     (None, 500, 64)           640000    \n",
      "_________________________________________________________________\n",
      "dropout_14 (Dropout)         (None, 500, 64)           0         \n",
      "_________________________________________________________________\n",
      "cu_dnnlstm_13 (CuDNNLSTM)    (None, 500, 128)          99328     \n",
      "_________________________________________________________________\n",
      "dropout_15 (Dropout)         (None, 500, 128)          0         \n",
      "_________________________________________________________________\n",
      "cu_dnnlstm_14 (CuDNNLSTM)    (None, 128)               132096    \n",
      "_________________________________________________________________\n",
      "dense_9 (Dense)              (None, 1)                 129       \n",
      "=================================================================\n",
      "Total params: 871,553\n",
      "Trainable params: 871,553\n",
      "Non-trainable params: 0\n",
      "_________________________________________________________________\n",
      "None\n"
     ]
    }
   ],
   "source": [
    "embedding_vec_length = 64\n",
    "model = Sequential()\n",
    "model.add(Embedding(num_top_words, embedding_vec_length, input_length = vec_length))\n",
    "model.add(Dropout(0.2))\n",
    "model.add(CuDNNLSTM(128, return_sequences = True))\n",
    "model.add(Dropout(0.3))\n",
    "model.add(CuDNNLSTM(128))\n",
    "model.add(Dense(1, activation = 'sigmoid'))\n",
    "model.compile(loss = 'binary_crossentropy', optimizer = 'adam', metrics = ['accuracy'])\n",
    "print(model.summary())"
   ]
  },
  {
   "cell_type": "code",
   "execution_count": 31,
   "metadata": {},
   "outputs": [
    {
     "name": "stdout",
     "output_type": "stream",
     "text": [
      "****************************TRAINING****************************\n",
      "Train on 203935 samples, validate on 50984 samples\n",
      "Epoch 1/10\n",
      "203935/203935 [==============================] - 151s 740us/step - loss: 0.2030 - acc: 0.9206 - val_loss: 0.1861 - val_acc: 0.9282\n",
      "Epoch 2/10\n",
      "203935/203935 [==============================] - 139s 683us/step - loss: 0.1514 - acc: 0.9420 - val_loss: 0.1620 - val_acc: 0.9356\n",
      "Epoch 3/10\n",
      "203935/203935 [==============================] - 140s 686us/step - loss: 0.1294 - acc: 0.9508 - val_loss: 0.1637 - val_acc: 0.9369\n",
      "Epoch 4/10\n",
      "203935/203935 [==============================] - 140s 688us/step - loss: 0.1145 - acc: 0.9567 - val_loss: 0.1612 - val_acc: 0.9364\n",
      "Epoch 5/10\n",
      "203935/203935 [==============================] - 141s 689us/step - loss: 0.1014 - acc: 0.9624 - val_loss: 0.1749 - val_acc: 0.9367\n",
      "Epoch 6/10\n",
      "203935/203935 [==============================] - 141s 693us/step - loss: 0.0898 - acc: 0.9665 - val_loss: 0.1782 - val_acc: 0.9355\n",
      "Epoch 7/10\n",
      "203935/203935 [==============================] - 144s 706us/step - loss: 0.0793 - acc: 0.9710 - val_loss: 0.2070 - val_acc: 0.9336\n",
      "Epoch 8/10\n",
      "203935/203935 [==============================] - 146s 716us/step - loss: 0.0702 - acc: 0.9741 - val_loss: 0.2123 - val_acc: 0.9328\n",
      "Epoch 9/10\n",
      "203935/203935 [==============================] - 145s 713us/step - loss: 0.0628 - acc: 0.9774 - val_loss: 0.2373 - val_acc: 0.9272\n",
      "Epoch 10/10\n",
      "203935/203935 [==============================] - 143s 703us/step - loss: 0.0550 - acc: 0.9800 - val_loss: 0.2470 - val_acc: 0.9306\n"
     ]
    },
    {
     "data": {
      "image/png": "[encoded data removed]",
      "text/plain": [
       "<matplotlib.figure.Figure at 0x7fa23cd97e48>"
      ]
     },
     "metadata": {},
     "output_type": "display_data"
    },
    {
     "data": {
      "image/png": "[encoded data removed]",
      "text/plain": [
       "<matplotlib.figure.Figure at 0x7fa2356d8550>"
      ]
     },
     "metadata": {},
     "output_type": "display_data"
    }
   ],
   "source": [
    "print('****************************TRAINING****************************')\n",
    "history = model.fit(train_vect, train_y, epochs = 10, batch_size = 64, validation_split = 0.2)\n",
    "err_plot(history)"
   ]
  },
  {
   "cell_type": "code",
   "execution_count": 49,
   "metadata": {},
   "outputs": [
    {
     "name": "stdout",
     "output_type": "stream",
     "text": [
      "****************************TESTING****************************\n",
      "Epoch 1/2\n",
      "254919/254919 [==============================] - 160s 629us/step - loss: 0.1985 - acc: 0.9222\n",
      "Epoch 2/2\n",
      "254919/254919 [==============================] - 160s 629us/step - loss: 0.1479 - acc: 0.9427\n",
      "109252/109252 [==============================] - 44s 401us/step\n",
      "Accuracy: 93.70%\n"
     ]
    }
   ],
   "source": [
    "print('****************************TESTING****************************')\n",
    "model.fit(train_vect, train_y, epochs = 2, batch_size = 64)\n",
    "result = model.evaluate(test_vect, test_y)\n",
    "print(\"Accuracy: %.2f%%\" % (result[1] * 100))"
   ]
  },
  {
   "cell_type": "markdown",
   "metadata": {},
   "source": [
    "## 7. CNN-LSTM"
   ]
  },
  {
   "cell_type": "code",
   "execution_count": 33,
   "metadata": {},
   "outputs": [],
   "source": [
    "from keras.layers import Conv1D, MaxPooling1D"
   ]
  },
  {
   "cell_type": "code",
   "execution_count": 46,
   "metadata": {},
   "outputs": [
    {
     "name": "stdout",
     "output_type": "stream",
     "text": [
      "_________________________________________________________________\n",
      "Layer (type)                 Output Shape              Param #   \n",
      "=================================================================\n",
      "embedding_9 (Embedding)      (None, 500, 64)           640000    \n",
      "_________________________________________________________________\n",
      "dropout_13 (Dropout)         (None, 500, 64)           0         \n",
      "_________________________________________________________________\n",
      "conv1d_4 (Conv1D)            (None, 496, 64)           20544     \n",
      "_________________________________________________________________\n",
      "max_pooling1d_4 (MaxPooling1 (None, 124, 64)           0         \n",
      "_________________________________________________________________\n",
      "cu_dnnlstm_12 (CuDNNLSTM)    (None, 128)               99328     \n",
      "_________________________________________________________________\n",
      "dense_8 (Dense)              (None, 1)                 129       \n",
      "=================================================================\n",
      "Total params: 760,001\n",
      "Trainable params: 760,001\n",
      "Non-trainable params: 0\n",
      "_________________________________________________________________\n",
      "None\n"
     ]
    }
   ],
   "source": [
    "embedding_vec_length = 64\n",
    "model = Sequential()\n",
    "model.add(Embedding(num_top_words, embedding_vec_length, input_length = vec_length))\n",
    "model.add(Dropout(0.2))\n",
    "model.add(Conv1D(64, 5, activation='relu'))\n",
    "model.add(MaxPooling1D(pool_size=4))\n",
    "model.add(CuDNNLSTM(128))\n",
    "model.add(Dense(1, activation = 'sigmoid'))\n",
    "model.compile(loss = 'binary_crossentropy', optimizer = 'adam', metrics = ['accuracy'])\n",
    "print(model.summary())"
   ]
  },
  {
   "cell_type": "code",
   "execution_count": 36,
   "metadata": {},
   "outputs": [
    {
     "name": "stdout",
     "output_type": "stream",
     "text": [
      "****************************TRAINING****************************\n",
      "Train on 203935 samples, validate on 50984 samples\n",
      "Epoch 1/10\n",
      "203935/203935 [==============================] - 36s 175us/step - loss: 0.1958 - acc: 0.9228 - val_loss: 0.1756 - val_acc: 0.9310\n",
      "Epoch 2/10\n",
      "203935/203935 [==============================] - 35s 172us/step - loss: 0.1432 - acc: 0.9445 - val_loss: 0.1687 - val_acc: 0.9344\n",
      "Epoch 3/10\n",
      "203935/203935 [==============================] - 36s 174us/step - loss: 0.1184 - acc: 0.9549 - val_loss: 0.1789 - val_acc: 0.9299\n",
      "Epoch 4/10\n",
      "203935/203935 [==============================] - 36s 175us/step - loss: 0.0969 - acc: 0.9638 - val_loss: 0.1895 - val_acc: 0.9276\n",
      "Epoch 5/10\n",
      "203935/203935 [==============================] - 36s 175us/step - loss: 0.0791 - acc: 0.9712 - val_loss: 0.2083 - val_acc: 0.9254\n",
      "Epoch 6/10\n",
      "203935/203935 [==============================] - 36s 176us/step - loss: 0.0647 - acc: 0.9768 - val_loss: 0.2313 - val_acc: 0.9167\n",
      "Epoch 7/10\n",
      "203935/203935 [==============================] - 36s 177us/step - loss: 0.0546 - acc: 0.9802 - val_loss: 0.2329 - val_acc: 0.9255\n",
      "Epoch 8/10\n",
      "203935/203935 [==============================] - 36s 177us/step - loss: 0.0457 - acc: 0.9833 - val_loss: 0.2578 - val_acc: 0.9232\n",
      "Epoch 9/10\n",
      "203935/203935 [==============================] - 36s 178us/step - loss: 0.0400 - acc: 0.9856 - val_loss: 0.2725 - val_acc: 0.9205\n",
      "Epoch 10/10\n",
      "203935/203935 [==============================] - 36s 176us/step - loss: 0.0357 - acc: 0.9873 - val_loss: 0.2996 - val_acc: 0.9232\n"
     ]
    },
    {
     "data": {
      "image/png": "[encoded data removed]",
      "text/plain": [
       "<matplotlib.figure.Figure at 0x7fa236103780>"
      ]
     },
     "metadata": {},
     "output_type": "display_data"
    },
    {
     "data": {
      "image/png": "[encoded data removed]",
      "text/plain": [
       "<matplotlib.figure.Figure at 0x7fa234c7b860>"
      ]
     },
     "metadata": {},
     "output_type": "display_data"
    }
   ],
   "source": [
    "print('****************************TRAINING****************************')\n",
    "history = model.fit(train_vect, train_y, epochs = 10, batch_size = 64, validation_split = 0.2)\n",
    "err_plot(history)"
   ]
  },
  {
   "cell_type": "code",
   "execution_count": 47,
   "metadata": {},
   "outputs": [
    {
     "name": "stdout",
     "output_type": "stream",
     "text": [
      "****************************TESTING****************************\n",
      "Epoch 1/2\n",
      "254919/254919 [==============================] - 42s 166us/step - loss: 0.1891 - acc: 0.9253\n",
      "Epoch 2/2\n",
      "254919/254919 [==============================] - 42s 163us/step - loss: 0.1402 - acc: 0.9458\n",
      "109252/109252 [==============================] - 9s 78us/step\n",
      "Accuracy: 93.40%\n"
     ]
    }
   ],
   "source": [
    "print('****************************TESTING****************************')\n",
    "model.fit(train_vect, train_y, epochs = 2, batch_size = 64)\n",
    "result = model.evaluate(test_vect, test_y)\n",
    "print(\"Accuracy: %.2f%%\" % (result[1] * 100))"
   ]
  },
  {
   "cell_type": "markdown",
   "metadata": {},
   "source": [
    "## 7. Bidirectional LSTM"
   ]
  },
  {
   "cell_type": "code",
   "execution_count": 41,
   "metadata": {},
   "outputs": [],
   "source": [
    "from keras.layers import Bidirectional"
   ]
  },
  {
   "cell_type": "code",
   "execution_count": 43,
   "metadata": {},
   "outputs": [
    {
     "name": "stdout",
     "output_type": "stream",
     "text": [
      "_________________________________________________________________\n",
      "Layer (type)                 Output Shape              Param #   \n",
      "=================================================================\n",
      "embedding_8 (Embedding)      (None, 500, 64)           640000    \n",
      "_________________________________________________________________\n",
      "dropout_11 (Dropout)         (None, 500, 64)           0         \n",
      "_________________________________________________________________\n",
      "bidirectional_3 (Bidirection (None, 500, 256)          198656    \n",
      "_________________________________________________________________\n",
      "dropout_12 (Dropout)         (None, 500, 256)          0         \n",
      "_________________________________________________________________\n",
      "bidirectional_4 (Bidirection (None, 128)               164864    \n",
      "_________________________________________________________________\n",
      "dense_7 (Dense)              (None, 1)                 129       \n",
      "=================================================================\n",
      "Total params: 1,003,649\n",
      "Trainable params: 1,003,649\n",
      "Non-trainable params: 0\n",
      "_________________________________________________________________\n",
      "None\n"
     ]
    }
   ],
   "source": [
    "embedding_vec_length = 64\n",
    "model = Sequential()\n",
    "model.add(Embedding(num_top_words, embedding_vec_length, input_length = vec_length))\n",
    "model.add(Dropout(0.2))\n",
    "model.add(Bidirectional(CuDNNLSTM(128, return_sequences=True)))\n",
    "model.add(Dropout(0.3))\n",
    "model.add(Bidirectional(CuDNNLSTM(64)))\n",
    "model.add(Dense(1, activation = 'sigmoid'))\n",
    "model.compile(loss = 'binary_crossentropy', optimizer = 'adam', metrics = ['accuracy'])\n",
    "print(model.summary())"
   ]
  },
  {
   "cell_type": "code",
   "execution_count": 44,
   "metadata": {},
   "outputs": [
    {
     "name": "stdout",
     "output_type": "stream",
     "text": [
      "****************************TRAINING****************************\n",
      "Train on 203935 samples, validate on 50984 samples\n",
      "Epoch 1/10\n",
      "203935/203935 [==============================] - 272s 1ms/step - loss: 0.2016 - acc: 0.9210 - val_loss: 0.1811 - val_acc: 0.9292\n",
      "Epoch 2/10\n",
      "203935/203935 [==============================] - 274s 1ms/step - loss: 0.1483 - acc: 0.9423 - val_loss: 0.1650 - val_acc: 0.9363\n",
      "Epoch 3/10\n",
      "203935/203935 [==============================] - 277s 1ms/step - loss: 0.1273 - acc: 0.9513 - val_loss: 0.1638 - val_acc: 0.9375\n",
      "Epoch 4/10\n",
      "203935/203935 [==============================] - 276s 1ms/step - loss: 0.1118 - acc: 0.9578 - val_loss: 0.1678 - val_acc: 0.9376\n",
      "Epoch 5/10\n",
      "203935/203935 [==============================] - 276s 1ms/step - loss: 0.0989 - acc: 0.9630 - val_loss: 0.1777 - val_acc: 0.9368\n",
      "Epoch 6/10\n",
      "203935/203935 [==============================] - 277s 1ms/step - loss: 0.0880 - acc: 0.9672 - val_loss: 0.1835 - val_acc: 0.9363\n",
      "Epoch 7/10\n",
      "203935/203935 [==============================] - 277s 1ms/step - loss: 0.0774 - acc: 0.9712 - val_loss: 0.1922 - val_acc: 0.9341\n",
      "Epoch 8/10\n",
      "203935/203935 [==============================] - 279s 1ms/step - loss: 0.0678 - acc: 0.9750 - val_loss: 0.2109 - val_acc: 0.9340\n",
      "Epoch 9/10\n",
      "203935/203935 [==============================] - 279s 1ms/step - loss: 0.0596 - acc: 0.9781 - val_loss: 0.2273 - val_acc: 0.9312\n",
      "Epoch 10/10\n",
      "203935/203935 [==============================] - 282s 1ms/step - loss: 0.0520 - acc: 0.9811 - val_loss: 0.2451 - val_acc: 0.9314\n"
     ]
    },
    {
     "data": {
      "image/png": "[encoded data removed]",
      "text/plain": [
       "<matplotlib.figure.Figure at 0x7fa2362f9630>"
      ]
     },
     "metadata": {},
     "output_type": "display_data"
    },
    {
     "data": {
      "image/png": "[encoded data removed]",
      "text/plain": [
       "<matplotlib.figure.Figure at 0x7fa236914b38>"
      ]
     },
     "metadata": {},
     "output_type": "display_data"
    }
   ],
   "source": [
    "print('****************************TRAINING****************************')\n",
    "history = model.fit(train_vect, train_y, epochs = 10, batch_size = 64, validation_split = 0.2)\n",
    "err_plot(history)"
   ]
  },
  {
   "cell_type": "code",
   "execution_count": 45,
   "metadata": {},
   "outputs": [
    {
     "name": "stdout",
     "output_type": "stream",
     "text": [
      "****************************TESTING****************************\n",
      "Epoch 1/2\n",
      "254919/254919 [==============================] - 311s 1ms/step - loss: 0.0823 - acc: 0.9722\n",
      "Epoch 2/2\n",
      "254919/254919 [==============================] - 313s 1ms/step - loss: 0.0682 - acc: 0.9763\n",
      "109252/109252 [==============================] - 84s 767us/step\n",
      "Accuracy: 93.33%\n"
     ]
    }
   ],
   "source": [
    "print('****************************TESTING****************************')\n",
    "model.fit(train_vect, train_y, epochs = 2, batch_size = 64)\n",
    "result = model.evaluate(test_vect, test_y)\n",
    "print(\"Accuracy: %.2f%%\" % (result[1] * 100))"
   ]
  },
  {
   "cell_type": "markdown",
   "metadata": {},
   "source": [
    "## 8. Summary"
   ]
  },
  {
   "cell_type": "markdown",
   "metadata": {},
   "source": [
    "### Approach:\n",
    "<p align=\"center\">\n",
    "&nbsp;&nbsp;&nbsp;&nbsp;&nbsp;&nbsp;&nbsp;&nbsp;&nbsp;&nbsp;&nbsp;&nbsp;&nbsp;&nbsp;&nbsp;&nbsp;&nbsp;&nbsp;&nbsp;&nbsp;&nbsp;&nbsp;&nbsp;&nbsp;&nbsp;&nbsp;From all Amazon fine food reviews data-points i have taken only the reviews that have score 1, 2, 4 or 5 and applied some text preprocessing. After than I loaded the data to apply various LSTMs to classify our data into positive class or negative class. LSTMs need input sequence in some sort of embeddings. For that I have taken top 10000 words from the total text corpus and calculated the rank matrix and represented train and test text in terms of rank of the words of fixed length of 500; except that embedding vector length is taken to be 64.  Every LSTM's performances is presented below.<br>\n",
    "<h3> Results:</h3><br>\n",
    " <table>\n",
    "  <tr>\n",
    "    <th>LSTM Variant Name</th>\n",
    "    <th>Total Parameters</th>\n",
    "    <th>Train Accuracy</th>\n",
    "    <th>Test Accuracy</th>\n",
    "  </tr>\n",
    "  <tr>\n",
    "    <td>Vanilla LSTM</td>\n",
    "    <td>739456</td>\n",
    "    <td>97.95%</td>\n",
    "    <td>93.10%</td>\n",
    "  </tr>\n",
    "  <tr>\n",
    "    <td>Stacked LSTM</td>\n",
    "    <td>871553</td>\n",
    "    <td>94.27%</td>\n",
    "    <td>93.70%</td>\n",
    "  </tr>\n",
    "  <tr>\n",
    "    <td>CNN-LSTM</td>\n",
    "    <td>760001</td>\n",
    "    <td>94.58%</td>\n",
    "    <td>93.40%</td>\n",
    "    <td></td>\n",
    "  </tr>\n",
    "  <tr>\n",
    "    <td>Bidirectional LSTM</td>\n",
    "    <td>1003649</td>\n",
    "    <td>97.63%</td>\n",
    "    <td>93.33%</td>\n",
    "  </tr>\n",
    "</table>\n",
    "<br>"
   ]
  },
  {
   "cell_type": "markdown",
   "metadata": {},
   "source": [
    "<h3>Conclusion:</h3><br>"
   ]
  },
  {
   "cell_type": "markdown",
   "metadata": {},
   "source": [
    "**1.** Textual data comes under sequential data so it's better to apply LSTM to it.<br>\n",
    "**2.** For 128 LSTM units it seems the model overfits the data very quickly. So, I managed to reduce the overfitting to some extent by using a dropout layer before the LSTM layer in all LSTMs.<br>\n",
    "**3.** All LSTM variants performed similar to each other. But, among all of them Stacked LSTM with 2 LSTM layers with 128 LSTM units performed best with accuracy of 93.70%.<br>"
   ]
  }
 ],
 "metadata": {
  "kernelspec": {
   "display_name": "Python 3",
   "language": "python",
   "name": "python3"
  },
  "language_info": {
   "codemirror_mode": {
    "name": "ipython",
    "version": 3
   },
   "file_extension": ".py",
   "mimetype": "text/x-python",
   "name": "python",
   "nbconvert_exporter": "python",
   "pygments_lexer": "ipython3",
   "version": "3.6.4"
  }
 },
 "nbformat": 4,
 "nbformat_minor": 2
}
